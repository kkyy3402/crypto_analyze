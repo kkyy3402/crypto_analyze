{
 "cells": [
  {
   "cell_type": "code",
   "execution_count": 2,
   "id": "d27081b4-49f4-4f46-8615-31592aeb1ce0",
   "metadata": {},
   "outputs": [],
   "source": [
    "import requests\n",
    "import pandas as pd\n",
    "import time\n",
    "\n",
    "def get_market_codes():\n",
    "    url = \"https://api.upbit.com/v1/market/all\"\n",
    "    response = requests.get(url)\n",
    "    markets = response.json()\n",
    "\n",
    "    # Extract market codes\n",
    "    market_codes = [market['market'] for market in markets if market['market'].startswith('KRW')]\n",
    "\n",
    "    return market_codes"
   ]
  },
  {
   "cell_type": "markdown",
   "id": "363d420f-2021-4e79-9d9d-9437e0c49b6e",
   "metadata": {},
   "source": [
    "### Williams %R 계산"
   ]
  },
  {
   "cell_type": "code",
   "execution_count": 15,
   "id": "e2c1fe9e-0fe4-4adb-b36a-7912183e06c3",
   "metadata": {},
   "outputs": [],
   "source": [
    "def calculate_williams_r(data):\n",
    "    # Create DataFrame from the data\n",
    "    df = pd.DataFrame(data)\n",
    "\n",
    "    # Check if DataFrame is empty\n",
    "    if df.empty:\n",
    "        return None\n",
    "\n",
    "    # Reverse the order (to have oldest to newest)\n",
    "    df = df.iloc[::-1]\n",
    "\n",
    "    # Calculate Williams %R\n",
    "    high = df['high_price'].rolling(window=14).max()\n",
    "    low = df['low_price'].rolling(window=14).min()\n",
    "    williams_r = ((high - df['trade_price']) / (high - low)) * -100\n",
    "\n",
    "    return williams_r.iloc[-1]"
   ]
  },
  {
   "cell_type": "code",
   "execution_count": 12,
   "id": "49f65951-a91b-410a-bce6-94240d92a22d",
   "metadata": {},
   "outputs": [],
   "source": [
    "def get_over_sold_markets_on_hours(market_codes, threshold=-80):\n",
    "    oversold_markets = []\n",
    "    for code in market_codes:\n",
    "        try:\n",
    "            # Fetch market data\n",
    "            url = f\"https://api.upbit.com/v1/candles/minutes/60?market={code}&count=14\"\n",
    "            response = requests.get(url)\n",
    "            data = response.json()\n",
    "\n",
    "            # Calculate Williams %R for the market\n",
    "            williams_r = calculate_williams_r(data)\n",
    "            if williams_r is not None and williams_r <= threshold:\n",
    "                oversold_markets.append((code, williams_r))\n",
    "\n",
    "            time.sleep(0.1)\n",
    "        except Exception as e:\n",
    "            # Handle potential errors in data retrieval or calculation\n",
    "            print(f\"Error processing {code}: {e}\")\n",
    "\n",
    "    return oversold_markets\n",
    "\n",
    "def get_over_sold_markets_on_days(market_codes, threshold=-80):\n",
    "    oversold_markets = []\n",
    "    for code in market_codes:\n",
    "        try:\n",
    "            # Fetch market data\n",
    "            url = f\"https://api.upbit.com/v1/candles/days?market={code}&count=14\"\n",
    "            response = requests.get(url)\n",
    "            data = response.json()\n",
    "\n",
    "            # Calculate Williams %R for the market\n",
    "            williams_r = calculate_williams_r(data)\n",
    "            if williams_r is not None and williams_r <= threshold:\n",
    "                oversold_markets.append((code, williams_r))\n",
    "\n",
    "            time.sleep(0.1)\n",
    "        except Exception as e:\n",
    "            # Handle potential errors in data retrieval or calculation\n",
    "            print(f\"Error processing {code}: {e}\")\n",
    "\n",
    "    return oversold_markets"
   ]
  },
  {
   "cell_type": "code",
   "execution_count": 16,
   "id": "36eb028c-dbca-4d8a-8046-c6fcf74bd480",
   "metadata": {},
   "outputs": [],
   "source": [
    "def get_transitioning_markets(market_codes, lower_threshold=-80, upper_threshold=-80):\n",
    "    transitioning_markets = []\n",
    "    for code in market_codes:\n",
    "        previous_williams_r = None  # Initialize a variable to store the previous day's Williams %R\n",
    "\n",
    "        try:\n",
    "            # Fetch market data for the last two days\n",
    "            url = f\"https://api.upbit.com/v1/candles/days?market={code}&count=15\"\n",
    "            response = requests.get(url)\n",
    "            data = response.json()\n",
    "\n",
    "            for daily_data in data:\n",
    "                # Calculate Williams %R for each day\n",
    "                williams_r = calculate_williams_r([daily_data])  # Calculate for a single day\n",
    "\n",
    "                if previous_williams_r is not None:\n",
    "                    # Check the transition condition\n",
    "                    if previous_williams_r <= lower_threshold and williams_r > upper_threshold:\n",
    "                        transitioning_markets.append((code, williams_r))\n",
    "                        break  # Stop checking after finding the transition\n",
    "\n",
    "                previous_williams_r = williams_r  # Update the previous value for the next iteration\n",
    "\n",
    "            time.sleep(1)\n",
    "        except Exception as e:\n",
    "            print(f\"Error processing {code}: {e}\")\n",
    "\n",
    "    return transitioning_markets"
   ]
  },
  {
   "cell_type": "code",
   "execution_count": 17,
   "id": "c506b021-7ffd-496e-be56-d02c9a9fa621",
   "metadata": {},
   "outputs": [
    {
     "data": {
      "text/plain": [
       "[('KRW-STORJ', -94.5910290237467),\n",
       " ('KRW-GAS', -86.30705394190872),\n",
       " ('KRW-ELF', -97.61904761904762),\n",
       " ('KRW-BTT', -80.0),\n",
       " ('KRW-DOGE', -84.61538461538461),\n",
       " ('KRW-AVAX', -81.09393579072533)]"
      ]
     },
     "execution_count": 17,
     "metadata": {},
     "output_type": "execute_result"
    }
   ],
   "source": [
    "# 전체 마켓 코드를 가져온다. \n",
    "market_codes = get_market_codes()\n",
    "\n",
    "codes_to_buy = get_transitioning_markets(market_codes)\n",
    "\n",
    "# \b1시간 기준으로 과매도 종목 구함.\n",
    "# oversold_markets_on_hours = get_over_sold_markets_on_hours(market_codes)\n",
    "# oversold_markets_on_days = get_over_sold_markets_on_days(market_codes)\n",
    "oversold_markets_on_days"
   ]
  },
  {
   "cell_type": "code",
   "execution_count": 18,
   "id": "ec7fe28f-8efb-43bc-8be7-668f7ee45e2f",
   "metadata": {},
   "outputs": [
    {
     "data": {
      "text/plain": [
       "[]"
      ]
     },
     "execution_count": 18,
     "metadata": {},
     "output_type": "execute_result"
    }
   ],
   "source": [
    "codes_to_buy"
   ]
  },
  {
   "cell_type": "code",
   "execution_count": 51,
   "id": "5bf81ec2-fc65-46fc-8f41-01d718318913",
   "metadata": {},
   "outputs": [],
   "source": [
    "### 매수 : 이전 williams -80 미만 -> -80이상으로 변경된 종목\n",
    "### 매도 : 현재 보유중인 종목 중 Williams %R 기준 -20 초과였다가 -20 이하로 변경된 종목"
   ]
  },
  {
   "cell_type": "code",
   "execution_count": 82,
   "id": "3e64145d-3859-493b-8a38-dad617178aa9",
   "metadata": {},
   "outputs": [],
   "source": [
    "### 내 보유 종목 가져오기 \n",
    "import os\n",
    "import uuid\n",
    "import jwt\n",
    "from dotenv import load_dotenv\n",
    "\n",
    "load_dotenv()\n",
    "\n",
    "def get_jwt_token():\n",
    "    access_key = os.getenv('UPBIT_OPEN_API_ACCESS_KEY')\n",
    "    secret_key = os.getenv('UPBIT_OPEN_API_SECRET_KEY')\n",
    "\n",
    "    payload = {\n",
    "        'access_key': access_key,\n",
    "        'nonce': str(uuid.uuid4()),\n",
    "    }\n",
    "\n",
    "    return jwt.encode(payload, secret_key, algorithm='HS256')\n",
    "\n",
    "# 내 종목 구하기\n",
    "def get_my_holdings():\n",
    "    jwt_token = get_jwt_token()\n",
    "    headers = {'Authorization': f'Bearer {jwt_token}'}\n",
    "    res = requests.get('https://api.upbit.com/v1/accounts', headers=headers)\n",
    "    return res.json()\n",
    "\n",
    "# 종목 매수 \n",
    "def buy_market_order(market, price):\n",
    "    jwt_token = get_jwt_token()\n",
    "    headers = {'Authorization': f'Bearer {jwt_token}'}\n",
    "\n",
    "    data = {\n",
    "        'market': market,\n",
    "        'side': 'bid',\n",
    "        'price': str(price),\n",
    "        'ord_type': 'price',\n",
    "    }\n",
    "\n",
    "    response = requests.post('https://api.upbit.com/v1/orders', headers=headers, data=data)\n",
    "    return response.json()\n",
    "\n",
    "\n",
    "# 종목 매도 \n",
    "def sell_market_order(market, volume):\n",
    "    jwt_token = get_jwt_token()\n",
    "    print(jwt_token)\n",
    "    headers = {'Authorization': f'Bearer {jwt_token}'}\n",
    "\n",
    "    data = {\n",
    "        'market': market,\n",
    "        'side': 'ask',\n",
    "        'volume': str(volume),\n",
    "        'ord_type': 'market',\n",
    "    }\n",
    "\n",
    "    response = requests.post('https://api.upbit.com/v1/orders', headers=headers, data=data)\n",
    "    return response.json()"
   ]
  }
 ],
 "metadata": {
  "kernelspec": {
   "display_name": "Python 3 (ipykernel)",
   "language": "python",
   "name": "python3"
  },
  "language_info": {
   "codemirror_mode": {
    "name": "ipython",
    "version": 3
   },
   "file_extension": ".py",
   "mimetype": "text/x-python",
   "name": "python",
   "nbconvert_exporter": "python",
   "pygments_lexer": "ipython3",
   "version": "3.11.6"
  }
 },
 "nbformat": 4,
 "nbformat_minor": 5
}
